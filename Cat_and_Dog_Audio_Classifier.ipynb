{
  "nbformat": 4,
  "nbformat_minor": 0,
  "metadata": {
    "colab": {
      "name": "Cat_and_Dog_Audio_Classifier.ipynb",
      "provenance": [],
      "collapsed_sections": [],
      "authorship_tag": "ABX9TyNTmg5QqZygz/0GBAZ2nppn"
    },
    "kernelspec": {
      "name": "python3",
      "display_name": "Python 3"
    }
  },
  "cells": [
    {
      "cell_type": "markdown",
      "metadata": {
        "id": "HTNHny686_Ya",
        "colab_type": "text"
      },
      "source": [
        "1. Downloading dataset from kaggle"
      ]
    },
    {
      "cell_type": "code",
      "metadata": {
        "id": "iKRV-7vIPfo4",
        "colab_type": "code",
        "colab": {
          "base_uri": "https://localhost:8080/",
          "height": 67
        },
        "outputId": "5087f10a-09e4-4746-a182-f482d14f49a2"
      },
      "source": [
        "!mkdir .kaggle\n",
        "\n",
        "import json\n",
        "#In username enter your username obtained from kaggle and key obtained\n",
        "token = {\t\"username\":\"amratye\",\"key\":\"b7620e5da4833304f5e9ec08b2daba2e\"}\n",
        "with open('/content/.kaggle/kaggle.json', 'w') as file:\n",
        "    json.dump(token, file)\n",
        "    \n",
        "!cp /content/.kaggle/kaggle.json ~/.kaggle/kaggle.json\n",
        "!kaggle config set -n path -v{/content}\n",
        "!chmod 600 /root/.kaggle/kaggle.json\n",
        "!kaggle datasets download -d mmoreaux/audio-cats-and-dogs\n"
      ],
      "execution_count": 106,
      "outputs": [
        {
          "output_type": "stream",
          "text": [
            "mkdir: cannot create directory ‘.kaggle’: File exists\n",
            "- path is now set to: {/content}\n",
            "audio-cats-and-dogs.zip: Skipping, found more recently modified local copy (use --force to force download)\n"
          ],
          "name": "stdout"
        }
      ]
    },
    {
      "cell_type": "code",
      "metadata": {
        "id": "mim7ptdvQkLH",
        "colab_type": "code",
        "colab": {
          "base_uri": "https://localhost:8080/",
          "height": 1000
        },
        "outputId": "b6f9128b-89e4-4286-a26d-790190632ca7"
      },
      "source": [
        "!unzip /content/{/content}/datasets/mmoreaux/audio-cats-and-dogs/audio-cats-and-dogs.zip"
      ],
      "execution_count": 107,
      "outputs": [
        {
          "output_type": "stream",
          "text": [
            "Archive:  /content/{/content}/datasets/mmoreaux/audio-cats-and-dogs/audio-cats-and-dogs.zip\n",
            "replace cats_dogs/cat_1.wav? [y]es, [n]o, [A]ll, [N]one, [r]ename: N\n",
            "  inflating: cats_dogs/test/cats/cat_110.wav  \n",
            "  inflating: cats_dogs/test/cats/cat_112.wav  \n",
            "  inflating: cats_dogs/test/cats/cat_115.wav  \n",
            "  inflating: cats_dogs/test/cats/cat_126.wav  \n",
            "  inflating: cats_dogs/test/cats/cat_129.wav  \n",
            "  inflating: cats_dogs/test/cats/cat_130.wav  \n",
            "  inflating: cats_dogs/test/cats/cat_133.wav  \n",
            "  inflating: cats_dogs/test/cats/cat_135.wav  \n",
            "  inflating: cats_dogs/test/cats/cat_137.wav  \n",
            "  inflating: cats_dogs/test/cats/cat_14.wav  \n",
            "  inflating: cats_dogs/test/cats/cat_143.wav  \n",
            "  inflating: cats_dogs/test/cats/cat_144.wav  \n",
            "  inflating: cats_dogs/test/cats/cat_148.wav  \n",
            "  inflating: cats_dogs/test/cats/cat_152.wav  \n",
            "  inflating: cats_dogs/test/cats/cat_158.wav  \n",
            "  inflating: cats_dogs/test/cats/cat_17.wav  \n",
            "  inflating: cats_dogs/test/cats/cat_20.wav  \n",
            "  inflating: cats_dogs/test/cats/cat_24.wav  \n",
            "  inflating: cats_dogs/test/cats/cat_28.wav  \n",
            "  inflating: cats_dogs/test/cats/cat_29.wav  \n",
            "  inflating: cats_dogs/test/cats/cat_3.wav  \n",
            "  inflating: cats_dogs/test/cats/cat_36.wav  \n",
            "  inflating: cats_dogs/test/cats/cat_42.wav  \n",
            "  inflating: cats_dogs/test/cats/cat_55.wav  \n",
            "  inflating: cats_dogs/test/cats/cat_56.wav  \n",
            "  inflating: cats_dogs/test/cats/cat_57.wav  \n",
            "  inflating: cats_dogs/test/cats/cat_58.wav  \n",
            "  inflating: cats_dogs/test/cats/cat_59.wav  \n",
            "  inflating: cats_dogs/test/cats/cat_61.wav  \n",
            "  inflating: cats_dogs/test/cats/cat_66.wav  \n",
            "  inflating: cats_dogs/test/cats/cat_67.wav  \n",
            "  inflating: cats_dogs/test/cats/cat_75.wav  \n",
            "  inflating: cats_dogs/test/cats/cat_76.wav  \n",
            "  inflating: cats_dogs/test/cats/cat_79.wav  \n",
            "  inflating: cats_dogs/test/cats/cat_82.wav  \n",
            "  inflating: cats_dogs/test/cats/cat_85.wav  \n",
            "  inflating: cats_dogs/test/cats/cat_86.wav  \n",
            "  inflating: cats_dogs/test/cats/cat_88.wav  \n",
            "  inflating: cats_dogs/test/cats/cat_90.wav  \n",
            "  inflating: cats_dogs/test/test/dog_barking_112.wav  \n",
            "  inflating: cats_dogs/test/test/dog_barking_12.wav  \n",
            "  inflating: cats_dogs/test/test/dog_barking_15.wav  \n",
            "  inflating: cats_dogs/test/test/dog_barking_19.wav  \n",
            "  inflating: cats_dogs/test/test/dog_barking_24.wav  \n",
            "  inflating: cats_dogs/test/test/dog_barking_3.wav  \n",
            "  inflating: cats_dogs/test/test/dog_barking_34.wav  \n",
            "  inflating: cats_dogs/test/test/dog_barking_43.wav  \n",
            "  inflating: cats_dogs/test/test/dog_barking_44.wav  \n",
            "  inflating: cats_dogs/test/test/dog_barking_45.wav  \n",
            "  inflating: cats_dogs/test/test/dog_barking_46.wav  \n",
            "  inflating: cats_dogs/test/test/dog_barking_48.wav  \n",
            "  inflating: cats_dogs/test/test/dog_barking_49.wav  \n",
            "  inflating: cats_dogs/test/test/dog_barking_54.wav  \n",
            "  inflating: cats_dogs/test/test/dog_barking_59.wav  \n",
            "  inflating: cats_dogs/test/test/dog_barking_62.wav  \n",
            "  inflating: cats_dogs/test/test/dog_barking_64.wav  \n",
            "  inflating: cats_dogs/test/test/dog_barking_66.wav  \n",
            "  inflating: cats_dogs/test/test/dog_barking_7.wav  \n",
            "  inflating: cats_dogs/test/test/dog_barking_73.wav  \n",
            "  inflating: cats_dogs/test/test/dog_barking_78.wav  \n",
            "  inflating: cats_dogs/test/test/dog_barking_8.wav  \n",
            "  inflating: cats_dogs/test/test/dog_barking_82.wav  \n",
            "  inflating: cats_dogs/test/test/dog_barking_89.wav  \n",
            "  inflating: cats_dogs/test/test/dog_barking_9.wav  \n",
            "  inflating: cats_dogs/test/test/dog_barking_90.wav  \n",
            "  inflating: cats_dogs/test/test/dog_barking_91.wav  \n",
            "  inflating: cats_dogs/test/test/dog_barking_99.wav  \n"
          ],
          "name": "stdout"
        }
      ]
    },
    {
      "cell_type": "markdown",
      "metadata": {
        "id": "-PPgEE0e67mp",
        "colab_type": "text"
      },
      "source": [
        "2. Importing the packages"
      ]
    },
    {
      "cell_type": "code",
      "metadata": {
        "id": "QJEE3j_SNJ_1",
        "colab_type": "code",
        "colab": {}
      },
      "source": [
        "#importing all libraries\n",
        "import os\n",
        "import IPython.display as ipd\n",
        "import librosa\n",
        "import tensorflow as tf\n",
        "from sklearn.preprocessing import MinMaxScaler\n",
        "from sklearn.model_selection import train_test_split\n",
        "from tensorflow.keras.models import Sequential\n",
        "from tensorflow.keras.layers import Dense,Lambda,Input,Dropout,Activation\n",
        "from tensorflow.keras import backend as K\n",
        "import numpy as np\n",
        "from pprint import pprint "
      ],
      "execution_count": 224,
      "outputs": []
    },
    {
      "cell_type": "markdown",
      "metadata": {
        "id": "6wLPn5Ot63YO",
        "colab_type": "text"
      },
      "source": [
        "3. Preprocessing the text"
      ]
    },
    {
      "cell_type": "code",
      "metadata": {
        "id": "j_N8lwrltlmn",
        "colab_type": "code",
        "colab": {}
      },
      "source": [
        "def read(path):\n",
        "  data_dog = [librosa.load(os.path.join(os.path.join(path,'dog'),x))[0] for x in os.listdir(os.path.join(path,'dog'))]\n",
        "  label_dog = np.zeros_like(data_dog)\n",
        "  data_cat = [librosa.load(os.path.join(os.path.join(path,'cat'),x))[0] for x in os.listdir(os.path.join(path,'cat'))]\n",
        "  label_cat = np.ones_like(data_cat)\n",
        "  return data_dog, data_cat, label_dog, label_cat"
      ],
      "execution_count": 197,
      "outputs": []
    },
    {
      "cell_type": "code",
      "metadata": {
        "id": "4If30fBqSQBo",
        "colab_type": "code",
        "colab": {}
      },
      "source": [
        "def padding(train_x):\n",
        "  \n",
        "  max_value = 0\n",
        "  #finding ther maximum dimensional array for padding other arrays\n",
        "  for k in train_x:\n",
        "    temp = np.array(k).shape\n",
        "    if (max_value <= temp[0]):\n",
        "      max_value = temp[0]\n",
        "      \n",
        "  #padding the other arrays\n",
        "  for i,f in enumerate(train_x):\n",
        "    current_shape = np.array(f).shape[0]\n",
        "    pad_number = max_value - int(current_shape) \n",
        "    train_x[i] = list(f)+[0]*pad_number\n",
        "  return train_x\n"
      ],
      "execution_count": 198,
      "outputs": []
    },
    {
      "cell_type": "code",
      "metadata": {
        "id": "tk7PR_NHugSR",
        "colab_type": "code",
        "colab": {}
      },
      "source": [
        "def preprocess(data_dog,data_cat,label_dog,label_cat):\n",
        "  \n",
        "  #it takes time so we defined it under a function after running it one time we can comment out the 11th line as the values of data_dog,data_cat,lable_dog,label_cat are founded\n",
        "  #0.16 is the maximum value so we are normalizing the dataset\n",
        "  data = np.concatenate((data_dog,data_cat),axis = 0)/1.16\n",
        "  data = padding(data)\n",
        "  label = np.concatenate((label_dog,label_cat),axis = 0)\n",
        "  train = []\n",
        "\n",
        "  for i,j in zip(data,label):\n",
        "  #padding the audio files \n",
        "    train.append([i,j])\n",
        "  '''\n",
        "  max_arr,min_arr = [],[]\n",
        "  for i in data:\n",
        "    max_arr.append(np.max(i))\n",
        "    min_arr.append(np.min(i))    \n",
        "  max = np.max(max_arr)\n",
        "  min = np.min(min_arr)\n",
        "  print(\"The minimum and the maximum values are {} and {}\".format(max,min))\n",
        "  '''\n",
        "  return train"
      ],
      "execution_count": 199,
      "outputs": []
    },
    {
      "cell_type": "code",
      "metadata": {
        "id": "8YQCsuMDsBL1",
        "colab_type": "code",
        "colab": {}
      },
      "source": [
        "train_path = '/content/cats_dogs/train'\n",
        "data_dog, data_cat, label_dog, label_cat = read(train_path)\n",
        "train = np.array(preprocess(data_dog, data_cat, label_dog, label_cat))\n",
        "np.random.shuffle(train)\n",
        "train_x,train_y = train[:,0],train[:,1]"
      ],
      "execution_count": 200,
      "outputs": []
    },
    {
      "cell_type": "code",
      "metadata": {
        "id": "apHBFFlnVnBm",
        "colab_type": "code",
        "colab": {}
      },
      "source": [
        "test_path = '/content/cats_dogs/test'\n",
        "data_dog, data_cat, label_dog, label_cat = read(test_path)\n",
        "test = np.array(preprocess(data_dog, data_cat, label_dog, label_cat)) \n",
        "np.random.shuffle(test) \n",
        "test_x,test_y = test[:,0],test[:,1]"
      ],
      "execution_count": 201,
      "outputs": []
    },
    {
      "cell_type": "markdown",
      "metadata": {
        "id": "iO_QEtR57PcB",
        "colab_type": "text"
      },
      "source": [
        "Building the model"
      ]
    },
    {
      "cell_type": "code",
      "metadata": {
        "id": "E0boabmWSidl",
        "colab_type": "code",
        "colab": {}
      },
      "source": [
        "#preparing the base model\n",
        "def base_model(input_shape):\n",
        "  model = Sequential()\n",
        "  model.add(Dense(128,input_shape = input_shape,activation = 'relu'))\n",
        "  model.add(Dense(128,activation = 'relu'))\n",
        "  model.add(Dropout(0.1))\n",
        "  model.add(Dense(128,activation = 'relu'))\n",
        "  model.add(Dropout(0.3))\n",
        "  model.add(Dense(128,activation = 'relu'))\n",
        "  #model.add(Dropout(0.5))\n",
        "  #model.add(Dense(input_shape,activation = 'relu'))\n",
        "  return model\n",
        "  "
      ],
      "execution_count": 248,
      "outputs": []
    },
    {
      "cell_type": "code",
      "metadata": {
        "id": "1A7pfZ89GKkV",
        "colab_type": "code",
        "colab": {
          "base_uri": "https://localhost:8080/",
          "height": 34
        },
        "outputId": "69c47a6b-fdc5-4ce8-8c1e-251ede84cf09"
      },
      "source": [
        "input_shape = np.array(train_x[0]).shape\n",
        "input_1 = Input(shape = input_shape)\n",
        "input_2 = Input(shape = input_shape)\n",
        "\n",
        "def euclidean(vect):\n",
        "  x,y = vect\n",
        "  distance = K.sqrt(K.sum(K.square(x-y),axis = 0))\n",
        "  return distance\n",
        "\n",
        "def contrastive_loss(y_true,y_pred):\n",
        "  margin = 1\n",
        "  loss = y_true*(K.square(y_pred)) + (1-y_pred)*K.square(K.maximum(margin-y_pred,0))  \n",
        "\n",
        "sub_model = base_model(input_shape) \n",
        "x = sub_model(input_1)\n",
        "y = sub_model(input_2)\n",
        "sub_model.summary\n",
        "\n",
        "layer = Lambda(euclidean)([x,y])\n",
        "layer = tf.expand_dims(layer,axis = 1)\n",
        "print(layer.shape)\n",
        "output = Dense(1,activation = 'sigmoid')(layer)\n",
        "siamese_model = tf.keras.Model(inputs = [input_1,input_2],outputs = output)\n"
      ],
      "execution_count": 249,
      "outputs": [
        {
          "output_type": "stream",
          "text": [
            "(128, 1)\n"
          ],
          "name": "stdout"
        }
      ]
    },
    {
      "cell_type": "markdown",
      "metadata": {
        "id": "2JgWu7BnZgY4",
        "colab_type": "text"
      },
      "source": [
        "Compiling the model\n"
      ]
    },
    {
      "cell_type": "code",
      "metadata": {
        "id": "GjIvdfspYEPs",
        "colab_type": "code",
        "colab": {}
      },
      "source": [
        "siamese_model.compile(optimizer = 'adam',loss = contrastive_loss,metrics = ['accuracy'])"
      ],
      "execution_count": 250,
      "outputs": []
    },
    {
      "cell_type": "markdown",
      "metadata": {
        "id": "4yRWLxF8Zjsh",
        "colab_type": "text"
      },
      "source": [
        "Fitting the model\n"
      ]
    },
    {
      "cell_type": "code",
      "metadata": {
        "id": "zcAknKl3Zinl",
        "colab_type": "code",
        "colab": {}
      },
      "source": [
        "train_x = [np.array(x).astype(np.float32) for x in train_x]\n",
        "print(np.array(train_x).shape)\n",
        "print(train_y.shape)\n",
        "siamese_model.fit(np.array(train_x),np.array(train_y).astype(np.float32),validation_split = 0.2,epochs = 20)"
      ],
      "execution_count": null,
      "outputs": []
    },
    {
      "cell_type": "code",
      "metadata": {
        "id": "B5wXnz5h2LJc",
        "colab_type": "code",
        "colab": {}
      },
      "source": [
        "|"
      ],
      "execution_count": null,
      "outputs": []
    }
  ]
}